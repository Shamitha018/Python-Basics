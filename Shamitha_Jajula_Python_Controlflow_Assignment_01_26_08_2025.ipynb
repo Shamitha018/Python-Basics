{
  "nbformat": 4,
  "nbformat_minor": 0,
  "metadata": {
    "colab": {
      "provenance": []
    },
    "kernelspec": {
      "name": "python3",
      "display_name": "Python 3"
    },
    "language_info": {
      "name": "python"
    }
  },
  "cells": [
    {
      "cell_type": "markdown",
      "source": [
        "Ice Cream Conditional Logic:\n",
        "\n",
        "Practice Problems\n",
        "\n",
        "Beginner Problems: Simple If/Elif/Else"
      ],
      "metadata": {
        "id": "eKyt8vVsrcZB"
      }
    },
    {
      "cell_type": "code",
      "source": [
        "flavor ='chocolate'\n",
        "if flavor =='vanilla':\n",
        "  print('I like vanilla!')"
      ],
      "metadata": {
        "id": "yazC_0zvi4AQ"
      },
      "execution_count": null,
      "outputs": []
    },
    {
      "cell_type": "code",
      "source": [
        "scoops=2\n",
        "if scoops == 1:\n",
        "  print('One scoop')\n",
        "else:\n",
        "  print('More than one scoop')"
      ],
      "metadata": {
        "colab": {
          "base_uri": "https://localhost:8080/"
        },
        "id": "LPEl59pokQhP",
        "outputId": "e6666a77-c91f-4b42-d505-d4c79b753a85"
      },
      "execution_count": null,
      "outputs": [
        {
          "output_type": "stream",
          "name": "stdout",
          "text": [
            "More than one scoop\n"
          ]
        }
      ]
    },
    {
      "cell_type": "code",
      "execution_count": null,
      "metadata": {
        "colab": {
          "base_uri": "https://localhost:8080/"
        },
        "id": "eMZwybDChcoC",
        "outputId": "24157dc3-ba2c-4954-ea0c-95f06d771eef"
      },
      "outputs": [
        {
          "output_type": "stream",
          "name": "stdout",
          "text": [
            "please enter the size(s/m/l):s\n",
            "the price is 3.00\n"
          ]
        }
      ],
      "source": [
        "order=input(\"please enter the size(s/m/l):\")\n",
        "if order==\"s\":\n",
        "  print(\"the price is 3.00\")\n",
        "else:\n",
        "  print(\"the price is 5.00\")"
      ]
    },
    {
      "cell_type": "code",
      "source": [
        "is_vegan = True\n",
        "if is_vegan:\n",
        "  print('Show them the vegan options')"
      ],
      "metadata": {
        "colab": {
          "base_uri": "https://localhost:8080/"
        },
        "id": "U5mn6w02kkp5",
        "outputId": "df12c68d-71be-4140-bad5-1d2d5c390b03"
      },
      "execution_count": null,
      "outputs": [
        {
          "output_type": "stream",
          "name": "stdout",
          "text": [
            "Show them the vegan options\n"
          ]
        }
      ]
    },
    {
      "cell_type": "code",
      "source": [
        "new_flavor= input(\"Enter a flavour:\")\n",
        "if new_flavor == 'mint' or new_flavor == 'strawberry':\n",
        "  print(\"That's a popular choice!\")"
      ],
      "metadata": {
        "colab": {
          "base_uri": "https://localhost:8080/"
        },
        "id": "r_q9Km8nlCHi",
        "outputId": "c8c66aa7-5568-48cd-cfd5-90d37c7cbe68"
      },
      "execution_count": null,
      "outputs": [
        {
          "name": "stdout",
          "output_type": "stream",
          "text": [
            "Enter a flavour:chocolate\n"
          ]
        }
      ]
    },
    {
      "cell_type": "code",
      "source": [
        "current_hour = int(input('Enter an hour in whole number format (Example 6pm as 18):'))\n",
        "if current_hour in range(10,23):\n",
        "  print('The shop is open!')\n"
      ],
      "metadata": {
        "colab": {
          "base_uri": "https://localhost:8080/"
        },
        "id": "mOANlDy_l_54",
        "outputId": "65bc3b07-bd09-4a9c-e250-71ec069ce56c"
      },
      "execution_count": null,
      "outputs": [
        {
          "output_type": "stream",
          "name": "stdout",
          "text": [
            "Enter an hour in whole number format (Example 6pm as 18):21\n",
            "The shop is open!\n"
          ]
        }
      ]
    },
    {
      "cell_type": "code",
      "source": [
        "customer_age=12\n",
        "if customer_age <=12:\n",
        "  print('You get a free topping!')"
      ],
      "metadata": {
        "colab": {
          "base_uri": "https://localhost:8080/"
        },
        "id": "n35fvrFSnPYK",
        "outputId": "e44f9d46-efec-43b0-9958-a494728fdb21"
      },
      "execution_count": null,
      "outputs": [
        {
          "output_type": "stream",
          "name": "stdout",
          "text": [
            "You get a free topping!\n"
          ]
        }
      ]
    },
    {
      "cell_type": "code",
      "source": [
        "total_cost=0.00\n",
        "icecream_cost=4.00\n",
        "choice= input('Do you want a Cone?(Yes/No) : ')\n",
        "if choice == 'Yes':\n",
        "  total_cost=icecream_cost + 0.50\n",
        "else:\n",
        "  total_cost=icecream_cost\n",
        "print(f'Your total cost is {total_cost}')"
      ],
      "metadata": {
        "colab": {
          "base_uri": "https://localhost:8080/"
        },
        "id": "D6yATSinnm0f",
        "outputId": "31600391-785f-48dd-d582-539211dbfc5a"
      },
      "execution_count": null,
      "outputs": [
        {
          "output_type": "stream",
          "name": "stdout",
          "text": [
            "Do you want a Cone?(Yes/No) : Yes\n",
            "Your total cost is 4.5\n"
          ]
        }
      ]
    },
    {
      "cell_type": "code",
      "source": [
        "days_of_a_week= ['Monday', 'Tuesday', 'Wednesday', 'Thursday', 'Friday', 'Saturday', 'Sunday']\n",
        "today=input(\"Enter the today's day:\")\n",
        "if today == days_of_a_week[0]:\n",
        "  print(\"You get a 10% discount!\")"
      ],
      "metadata": {
        "colab": {
          "base_uri": "https://localhost:8080/"
        },
        "id": "sIcM8_qlo65s",
        "outputId": "4df624eb-9bb4-4769-fea5-9d5ae81e013f"
      },
      "execution_count": null,
      "outputs": [
        {
          "output_type": "stream",
          "name": "stdout",
          "text": [
            "Enter the today's day:Monday\n",
            "You get a 10% discount!\n"
          ]
        }
      ]
    },
    {
      "cell_type": "code",
      "source": [
        "loyalty_card= True\n",
        "if loyalty_card:\n",
        "  print('Thank you for being a loyal customer!')"
      ],
      "metadata": {
        "colab": {
          "base_uri": "https://localhost:8080/"
        },
        "id": "litEE0mZp1eT",
        "outputId": "a60d3b44-2384-4c7e-8b13-4be803239be1"
      },
      "execution_count": null,
      "outputs": [
        {
          "output_type": "stream",
          "name": "stdout",
          "text": [
            "Thank you for being a loyal customer!\n"
          ]
        }
      ]
    },
    {
      "cell_type": "code",
      "source": [
        "loyalty_card= False\n",
        "response = input('Do you have a loyalty card? (yes/no):')\n",
        "if response == 'yes':\n",
        "  loyalty_card = True\n",
        "else:\n",
        "  loyalty_card = False\n",
        "\n",
        "if loyalty_card:\n",
        "  print('Thank you for being a loyal customer!')"
      ],
      "metadata": {
        "colab": {
          "base_uri": "https://localhost:8080/"
        },
        "id": "4sl_4N-5qHU5",
        "outputId": "d8388010-7c0d-4afc-8cf6-9067b509533d"
      },
      "execution_count": null,
      "outputs": [
        {
          "output_type": "stream",
          "name": "stdout",
          "text": [
            "Do you have a loyalty card? (yes/no):yes\n",
            "Thank you for being a loyal customer!\n"
          ]
        }
      ]
    },
    {
      "cell_type": "code",
      "source": [
        "topping='sprikles'\n",
        "if topping != 'sprinkles':\n",
        "  print(\"we'll add a different topping\")"
      ],
      "metadata": {
        "colab": {
          "base_uri": "https://localhost:8080/"
        },
        "id": "pCyNJZZGrJxz",
        "outputId": "678b5d76-f7d8-48ca-e053-5b6ee9d9bc50"
      },
      "execution_count": null,
      "outputs": [
        {
          "output_type": "stream",
          "name": "stdout",
          "text": [
            "we'll add a different topping\n"
          ]
        }
      ]
    },
    {
      "cell_type": "code",
      "source": [
        "topping = input('Enter your choice of topping:')\n",
        "if topping != 'sprinkles':\n",
        "  print(\"We'll add a different topping\")"
      ],
      "metadata": {
        "colab": {
          "base_uri": "https://localhost:8080/"
        },
        "id": "B2w1gzedqvp-",
        "outputId": "8594dd28-69ea-489b-b696-1bd03e70ff2e"
      },
      "execution_count": null,
      "outputs": [
        {
          "output_type": "stream",
          "name": "stdout",
          "text": [
            "Enter your choice of topping:chocochips\n",
            "We'll add a different topping\n"
          ]
        }
      ]
    },
    {
      "cell_type": "code",
      "source": [
        "flavours= ['chocolate', 'mintchoco', 'strawberry', 'vanilla', 'butterscotch', 'pista']\n",
        "flv = input(\"Enter your choice of flavour: \")\n",
        "if flv not in flavours:\n",
        "  flavour_is_available = False\n",
        "  print('Sorry, that flavour is unavailable')\n"
      ],
      "metadata": {
        "colab": {
          "base_uri": "https://localhost:8080/"
        },
        "id": "SJZKU5wwo9QI",
        "outputId": "8d124ec5-6765-4927-809c-5ac0602f3e8d"
      },
      "execution_count": null,
      "outputs": [
        {
          "output_type": "stream",
          "name": "stdout",
          "text": [
            "Enter your choice of flavour: mint\n",
            "Sorry, that flavour is unavailable\n"
          ]
        }
      ]
    },
    {
      "cell_type": "code",
      "source": [
        "total_price = float(input(\"Enter the total price of customer's order: \"))\n",
        "if total_price == 5.50:\n",
        "  print(\"Exact amount needed.\")\n"
      ],
      "metadata": {
        "colab": {
          "base_uri": "https://localhost:8080/"
        },
        "id": "xUWlxemcqzKi",
        "outputId": "c78b4e32-b918-4d2a-f2a5-f006826f5b1c"
      },
      "execution_count": null,
      "outputs": [
        {
          "output_type": "stream",
          "name": "stdout",
          "text": [
            "Enter the total price of customer's order: 5.50\n",
            "Exact amount needed.\n"
          ]
        }
      ]
    },
    {
      "cell_type": "markdown",
      "source": [
        "Intermediate Problems: Nested and\n",
        "Combined Logic"
      ],
      "metadata": {
        "id": "KjQBYtZErpK2"
      }
    },
    {
      "cell_type": "code",
      "source": [
        "size=input(\"Enter the size of icecream (large/medium/small): \")\n",
        "flavour1= input(\"Enter the flavour (chocolate/mintchoco/strawberry/vanilla): \")\n",
        "if size == 'large' and flavour1 == 'chocolate':\n",
        "    print(\"Large chocolate cone coming up!\")\n",
        "else:\n",
        "    print(\"Sorry, we only have large in chocolate.\")"
      ],
      "metadata": {
        "colab": {
          "base_uri": "https://localhost:8080/"
        },
        "id": "dTLWeDpTt-BW",
        "outputId": "62989d95-ad6f-4a0a-bd98-2d1cf6eec57e"
      },
      "execution_count": null,
      "outputs": [
        {
          "output_type": "stream",
          "name": "stdout",
          "text": [
            "Enter the size of icecream (large/medium/small): large\n",
            "Enter the flavour (chocolate/mintchoco/strawberry/vanilla): chocolate\n",
            "large chocolate cone coming up!\n"
          ]
        }
      ]
    },
    {
      "cell_type": "code",
      "source": [
        "order_total = float(input(\"Enter the order total amount: \"))\n",
        "age = int(input(\"Enter the age of customer: \"))\n",
        "if age >= 60 or order_total == 10.00:\n",
        "  print(\"Discount applied!\")\n",
        "\n"
      ],
      "metadata": {
        "colab": {
          "base_uri": "https://localhost:8080/"
        },
        "id": "FvCKIi2kuNKd",
        "outputId": "4594a1e9-55e3-40f3-b961-885ea3bf9163"
      },
      "execution_count": null,
      "outputs": [
        {
          "name": "stdout",
          "output_type": "stream",
          "text": [
            "Enter the order total amount: 7\n",
            "Enter the age of customer: 7\n"
          ]
        }
      ]
    },
    {
      "cell_type": "code",
      "source": [
        "number_of_scoops = int(input(\"Enter the number of scoops: \"))\n",
        "flavour2 = input(\"Enter the flavour (chocolate/mintchoco/strawberry/vanilla): \")\n",
        "if number_of_scoops == 2:\n",
        "  if flavour2 == \"vanilla\":\n",
        "    print(\"Special offer for you!\")"
      ],
      "metadata": {
        "colab": {
          "base_uri": "https://localhost:8080/"
        },
        "id": "7PKb8PfIvLPn",
        "outputId": "9cddcdd9-5da0-410a-9f73-3e9114563391"
      },
      "execution_count": null,
      "outputs": [
        {
          "output_type": "stream",
          "name": "stdout",
          "text": [
            "Enter the number of scoops: 2\n",
            "Enter the flavour (chocolate/mintchoco/strawberry/vanilla): vanilla\n",
            "Special offer for you!\n"
          ]
        }
      ]
    },
    {
      "cell_type": "code",
      "source": [
        "coupon = input(\"coupon? (yes/no):\")\n",
        "if coupon == 'yes':\n",
        "  coupon = True\n",
        "if coupon == 'no':\n",
        "  coupon = False\n",
        "scoops = int(input(\"Enter the number of scoops: \"))\n",
        "if scoops >= 2 and coupon == True:\n",
        "  print(\"free topping added!\")"
      ],
      "metadata": {
        "colab": {
          "base_uri": "https://localhost:8080/"
        },
        "id": "wSD2m4U8v69P",
        "outputId": "8bbd9118-f0c9-4afd-9ff1-04a5fcda9e4c"
      },
      "execution_count": null,
      "outputs": [
        {
          "output_type": "stream",
          "name": "stdout",
          "text": [
            "coupon? (yes/no):yes\n",
            "Enter the number of scoops: 3\n",
            "free topping added!\n"
          ]
        }
      ]
    },
    {
      "cell_type": "code",
      "source": [
        "size1=input(\"Enter the size of icecream (large/medium/small): \")\n",
        "scoops1 = int(input(\"Enter the number of scoops: \"))\n",
        "flavour3 = input(\"Enter the flavour (chocolate/mintchoco/strawberry/vanilla): \")\n",
        "if size1 == 'medium' and scoops1 == 3:\n",
        "  if flavour3 != \"strawberry\":\n",
        "    print(\"This is a custom order!\")\n",
        "\n"
      ],
      "metadata": {
        "colab": {
          "base_uri": "https://localhost:8080/"
        },
        "id": "2nyeAM8A0nS8",
        "outputId": "3dda5aa4-31d8-459a-fa81-57284bc3b1b2"
      },
      "execution_count": null,
      "outputs": [
        {
          "output_type": "stream",
          "name": "stdout",
          "text": [
            "Enter the size of icecream (large/medium/small): medium\n",
            "Enter the number of scoops: 3\n",
            "Enter the flavour (chocolate/mintchoco/strawberry/vanilla): vanilla\n",
            "This is a custom order!\n"
          ]
        }
      ]
    },
    {
      "cell_type": "code",
      "source": [
        "temperature = int(input(\"Enter the temperature: \"))\n",
        "time_of_day = int(input('Enter an hour in whole number format (Example 6pm as 18):'))\n",
        "if temperature >= 25 and time_of_day in range(15, 18):\n",
        "  print(\"It's a hot afternoon, time for rush!\")"
      ],
      "metadata": {
        "colab": {
          "base_uri": "https://localhost:8080/"
        },
        "id": "jmje_15M13jj",
        "outputId": "f67104ce-93a9-444f-8ba9-49cdc0919944"
      },
      "execution_count": null,
      "outputs": [
        {
          "output_type": "stream",
          "name": "stdout",
          "text": [
            "Enter the temperature: 115\n",
            "Enter an hour in whole number format (Example 6pm as 18):17\n",
            "It's a hot afternoon, time for rush!\n"
          ]
        }
      ]
    },
    {
      "cell_type": "code",
      "source": [
        "VIP = input(\"VIP? (yes/no):\")\n",
        "customer_age1 = int(input(\"Enter the age of customer: \"))\n",
        "\n",
        "if customer_age1 >= 65 and VIP == \"yes\":\n",
        "  print(\"you get a free topping and a free scoop\")\n",
        "if VIP == 'yes':\n",
        "  print(\"you get a free topping!\")"
      ],
      "metadata": {
        "colab": {
          "base_uri": "https://localhost:8080/"
        },
        "id": "9v-pxoeK3PSR",
        "outputId": "381575e2-24ce-4b74-ec30-2bc7978de882"
      },
      "execution_count": null,
      "outputs": [
        {
          "output_type": "stream",
          "name": "stdout",
          "text": [
            "VIP? (yes/no):yes\n",
            "Enter the age of customer: 65\n",
            "you get a free topping and a free scoop\n",
            "you get a free topping!\n"
          ]
        }
      ]
    }
  ]
}