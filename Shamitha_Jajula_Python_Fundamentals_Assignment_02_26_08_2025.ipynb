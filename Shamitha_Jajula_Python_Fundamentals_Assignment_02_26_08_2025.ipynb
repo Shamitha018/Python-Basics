{
  "nbformat": 4,
  "nbformat_minor": 0,
  "metadata": {
    "colab": {
      "provenance": []
    },
    "kernelspec": {
      "name": "python3",
      "display_name": "Python 3"
    },
    "language_info": {
      "name": "python"
    }
  },
  "cells": [
    {
      "cell_type": "markdown",
      "source": [
        "Problem Set 1: Variables, Data Types, and I/O\n"
      ],
      "metadata": {
        "id": "OTg2ydcP9luS"
      }
    },
    {
      "cell_type": "markdown",
      "source": [
        "Section 1.1: Variable Naming and Assignment\n",
        "1. Create a variable named product_price and assign it the value 49.99. What is the data type of this variable?\n",
        "2. Create a variable named is_active_user and set its value to True. What is its data type?\n",
        "3. Assign the string 'Hello, World!' to a variable. Print the variable.\n",
        "4. Assign the integer 100 to a variable named score. Re-assign the variable to a new value 120. What is the value of score now?\n",
        "5. Create three variables a, b, and c and assign them the values 10, 20, and 30 in a single line."
      ],
      "metadata": {
        "id": "1Nm20PCn95NU"
      }
    },
    {
      "cell_type": "code",
      "source": [
        "product_price =49.99\n",
        "print(type(product_price))"
      ],
      "metadata": {
        "colab": {
          "base_uri": "https://localhost:8080/"
        },
        "id": "fpxMCPPZ9nh2",
        "outputId": "5cebcef5-273c-47a6-8161-7e625fdbc008"
      },
      "execution_count": null,
      "outputs": [
        {
          "output_type": "stream",
          "name": "stdout",
          "text": [
            "<class 'float'>\n"
          ]
        }
      ]
    },
    {
      "cell_type": "code",
      "source": [
        "is_active_user = True\n",
        "print(type(is_active_user))"
      ],
      "metadata": {
        "colab": {
          "base_uri": "https://localhost:8080/"
        },
        "id": "DVWnN78h-QHB",
        "outputId": "7a3ea755-2652-4a3c-df24-7313737b63ea"
      },
      "execution_count": null,
      "outputs": [
        {
          "output_type": "stream",
          "name": "stdout",
          "text": [
            "<class 'bool'>\n"
          ]
        }
      ]
    },
    {
      "cell_type": "code",
      "source": [
        "test = \"Hello, World!\"\n",
        "print(test)"
      ],
      "metadata": {
        "colab": {
          "base_uri": "https://localhost:8080/"
        },
        "id": "OndB0TKV-V7P",
        "outputId": "ffd405de-e205-4e7b-dbb6-f797779bc88b"
      },
      "execution_count": null,
      "outputs": [
        {
          "output_type": "stream",
          "name": "stdout",
          "text": [
            "Hello, World!\n"
          ]
        }
      ]
    },
    {
      "cell_type": "code",
      "source": [
        "score = 100\n",
        "print(f\"{score} before modification\")\n",
        "score = 120\n",
        "print(f\"{score} after modification\")\n"
      ],
      "metadata": {
        "colab": {
          "base_uri": "https://localhost:8080/"
        },
        "id": "bcYt6ff--fp9",
        "outputId": "2846433d-ccdb-4dfc-c7e7-0d7a069d4783"
      },
      "execution_count": null,
      "outputs": [
        {
          "output_type": "stream",
          "name": "stdout",
          "text": [
            "100 before modification\n",
            "120 after modification\n"
          ]
        }
      ]
    },
    {
      "cell_type": "code",
      "source": [
        "a,b,c = 10, 20, 30\n",
        "print(f\"value of a is {a}, value of b is {b}, value of c is {c}\")"
      ],
      "metadata": {
        "colab": {
          "base_uri": "https://localhost:8080/"
        },
        "id": "MShlcBH7-wol",
        "outputId": "b9bb3cbf-ac7f-4018-d76d-7fbe9824b70b"
      },
      "execution_count": null,
      "outputs": [
        {
          "output_type": "stream",
          "name": "stdout",
          "text": [
            "value of a is 10, value of b is 20, value of c is 30\n"
          ]
        }
      ]
    },
    {
      "cell_type": "markdown",
      "source": [
        "Section 1.2: Built-in Functions\n",
        "\n",
        "1. What is the purpose of the id() function? Write a simple example that demonstrates its use.\n",
        "2. Use the type() function to determine the data type of the string '500' and the integer 500.\n",
        "3. Use the print() function to display the string \"Python is fun!\".\n",
        "4. Use the print() function with the sep parameter to print the words 'Hello', 'Python', and 'World' separated by a hyphen.\n",
        "5. Use the print() function with the end parameter to print the string 'This is the first sentence.' without a newline, followed immediately by 'This is the second sentence.' on the same line.\n",
        "6. Use the int() function to convert the string \"123\" into an integer. Store the result in a new variable.\n",
        "7. Use the float() function to convert the integer 99 into a floating-point number.\n",
        "8. Use the str() function to convert the integer 1000 and the float 3.14 into strings."
      ],
      "metadata": {
        "id": "Dm8yyCWa_Gdc"
      }
    },
    {
      "cell_type": "code",
      "source": [
        "arr = 1\n",
        "print(id(arr))"
      ],
      "metadata": {
        "colab": {
          "base_uri": "https://localhost:8080/"
        },
        "id": "Lio-lOL0_Z0h",
        "outputId": "25be79d2-4c8b-4699-b32a-9bf077ae16c4"
      },
      "execution_count": null,
      "outputs": [
        {
          "output_type": "stream",
          "name": "stdout",
          "text": [
            "11642088\n"
          ]
        }
      ]
    },
    {
      "cell_type": "code",
      "source": [
        "string1 = '500'\n",
        "integer = 500\n",
        "print(type(string1))\n",
        "print(type(integer))"
      ],
      "metadata": {
        "colab": {
          "base_uri": "https://localhost:8080/"
        },
        "id": "8MZzUc7m_k45",
        "outputId": "67b2a7dc-1a5a-40b2-8f8b-cfe4d29bb21d"
      },
      "execution_count": null,
      "outputs": [
        {
          "output_type": "stream",
          "name": "stdout",
          "text": [
            "<class 'str'>\n",
            "<class 'int'>\n"
          ]
        }
      ]
    },
    {
      "cell_type": "code",
      "source": [
        "print(\"Python is fun!\")"
      ],
      "metadata": {
        "colab": {
          "base_uri": "https://localhost:8080/"
        },
        "id": "BooD4bfN_pG9",
        "outputId": "febab19d-3d80-40c7-d628-ffb11ceb36fe"
      },
      "execution_count": null,
      "outputs": [
        {
          "output_type": "stream",
          "name": "stdout",
          "text": [
            "Python is fun!\n"
          ]
        }
      ]
    },
    {
      "cell_type": "code",
      "source": [
        "print(\"Hello\",\"Python\",\"World\", sep = \"-\")"
      ],
      "metadata": {
        "colab": {
          "base_uri": "https://localhost:8080/"
        },
        "id": "gSdXcR2B_641",
        "outputId": "7e1dd7e2-9f23-444d-fa54-e7dcd42ecdd7"
      },
      "execution_count": null,
      "outputs": [
        {
          "output_type": "stream",
          "name": "stdout",
          "text": [
            "Hello-Python-World\n"
          ]
        }
      ]
    },
    {
      "cell_type": "code",
      "source": [
        "print(\"This is the first sentence.\", end=\" \")\n",
        "print(\"This is the second sentence.\")"
      ],
      "metadata": {
        "colab": {
          "base_uri": "https://localhost:8080/"
        },
        "id": "eItgGWLGPNNp",
        "outputId": "d95ba456-dae6-436a-db58-dc03470d77b8"
      },
      "execution_count": null,
      "outputs": [
        {
          "output_type": "stream",
          "name": "stdout",
          "text": [
            "This is the first sentence. This is the second sentence.\n"
          ]
        }
      ]
    },
    {
      "cell_type": "code",
      "source": [
        "a =\"123\"\n",
        "print(f\"a is \", type(a))\n",
        "b=int(a)\n",
        "print(f\"b is \", type(b))"
      ],
      "metadata": {
        "colab": {
          "base_uri": "https://localhost:8080/"
        },
        "id": "15uH3MCpjSzi",
        "outputId": "ccf86b8f-b728-4ea6-a288-6c907f4d4b77"
      },
      "execution_count": null,
      "outputs": [
        {
          "output_type": "stream",
          "name": "stdout",
          "text": [
            "a is  <class 'str'>\n",
            "b is  <class 'int'>\n"
          ]
        }
      ]
    },
    {
      "cell_type": "code",
      "source": [
        "num= 99\n",
        "print(float(num))"
      ],
      "metadata": {
        "colab": {
          "base_uri": "https://localhost:8080/"
        },
        "id": "XmNLs0OFkAts",
        "outputId": "66436a07-ab8c-4b81-9ee1-8efb80681113"
      },
      "execution_count": null,
      "outputs": [
        {
          "output_type": "stream",
          "name": "stdout",
          "text": [
            "99.0\n"
          ]
        }
      ]
    },
    {
      "cell_type": "code",
      "source": [
        "integer_1 = 1000\n",
        "float_1 =3.14\n",
        "x = str(integer_1)\n",
        "y = str(float_1)\n",
        "print(type(x))\n",
        "print(type(y))\n"
      ],
      "metadata": {
        "colab": {
          "base_uri": "https://localhost:8080/"
        },
        "id": "4Sap6IeskKCs",
        "outputId": "c3bb0b67-fc96-4c39-d1a8-9509dd50ba24"
      },
      "execution_count": null,
      "outputs": [
        {
          "output_type": "stream",
          "name": "stdout",
          "text": [
            "<class 'str'>\n",
            "<class 'str'>\n"
          ]
        }
      ]
    },
    {
      "cell_type": "markdown",
      "source": [
        "# Problem Set 2: Control Flow and Logic"
      ],
      "metadata": {
        "id": "veX_ul28k-DG"
      }
    },
    {
      "cell_type": "markdown",
      "source": [
        "Section 2.1: Conditional Statements (if/elif/else)\n",
        "\n",
        "1. Write a script that checks if a variable named temperature is greater than 30. If it is, print \"It's hot outside.\"\n",
        "2. Create a variable grade with a value of 85. Use an if/elif/else statement to print the letter grade based on the following rules: A (90+), B (80-89), C (70-79), D (60-69), F (below 60).\n",
        "3. Write a program that takes an integer number. If the number is even, print \"Even.\". Otherwise, print \"Odd.\".\n",
        "4. Create two variables, x and y, with values 10 and 20. Write an if statement that checks if x is less than y AND if x is greater than 5. If both are true, print \"Condition met.\"\n",
        "5. Write a program that checks if a user's entered password is at least 8 characters long. If it is, print \"Password is valid.\" Otherwise, print \"Password is too short.\""
      ],
      "metadata": {
        "id": "q7YId5LPlEu_"
      }
    },
    {
      "cell_type": "code",
      "source": [
        "temperature = int(input(\"Enter the temperature in degrees:\"))\n",
        "if temperature > 30:\n",
        "  print(\"It's hot outside\")"
      ],
      "metadata": {
        "colab": {
          "base_uri": "https://localhost:8080/"
        },
        "id": "Nhfk5apylMvg",
        "outputId": "18c82ab3-dd00-4f8e-a62e-d398c455c7e5"
      },
      "execution_count": null,
      "outputs": [
        {
          "output_type": "stream",
          "name": "stdout",
          "text": [
            "Enter the temperature:40\n",
            "It's hot outside\n"
          ]
        }
      ]
    },
    {
      "cell_type": "code",
      "source": [
        "grade = 85\n",
        "if grade >= 90:\n",
        "  print(\"grade A\")\n",
        "if grade in range(80,90):\n",
        "  print(\"grade B\")\n",
        "if grade in range(70,80):\n",
        "  print(\"grade C\")\n",
        "if grade in range(60,70):\n",
        "  print(\"grade D\")\n",
        "elif grade < 60:\n",
        "  print(\"grade F\")"
      ],
      "metadata": {
        "colab": {
          "base_uri": "https://localhost:8080/"
        },
        "id": "9IT_2YAElgRw",
        "outputId": "a92074b5-b1f8-4a2e-eb9d-7432aa1989e1"
      },
      "execution_count": null,
      "outputs": [
        {
          "output_type": "stream",
          "name": "stdout",
          "text": [
            "grade B\n"
          ]
        }
      ]
    },
    {
      "cell_type": "code",
      "source": [
        "num = int(input(\"Enter a number: \"))\n",
        "if num % 2 == 0:\n",
        "  print(\"even\")\n",
        "else:\n",
        "  print(\"odd\")"
      ],
      "metadata": {
        "colab": {
          "base_uri": "https://localhost:8080/"
        },
        "id": "7lokfpSZmVlP",
        "outputId": "300d439b-8b59-4e0c-c49c-732e819e83c4"
      },
      "execution_count": null,
      "outputs": [
        {
          "output_type": "stream",
          "name": "stdout",
          "text": [
            "Enter a number: 66\n",
            "even\n"
          ]
        }
      ]
    },
    {
      "cell_type": "code",
      "source": [
        "x = 10\n",
        "y = 20\n",
        "if x < y and x > 5 :\n",
        "  print(\"Condition met\")"
      ],
      "metadata": {
        "colab": {
          "base_uri": "https://localhost:8080/"
        },
        "id": "Zclmu9_0mj7x",
        "outputId": "3e193928-2e2b-44fa-ab51-b068b08a6a26"
      },
      "execution_count": null,
      "outputs": [
        {
          "output_type": "stream",
          "name": "stdout",
          "text": [
            "Condition met\n"
          ]
        }
      ]
    },
    {
      "cell_type": "code",
      "source": [
        "password = input(\"Enter password: \")\n",
        "count = 0\n",
        "for i in password:\n",
        "  count += 1\n",
        "\n",
        "print(count)\n",
        "if count >= 8 :\n",
        "  print(\"password is valid\")\n",
        "else:\n",
        "  print(\"password is too short\")"
      ],
      "metadata": {
        "colab": {
          "base_uri": "https://localhost:8080/"
        },
        "id": "_P3OOqiPm07T",
        "outputId": "621d5ea2-8181-4f42-b3ed-b8e75aab89ce"
      },
      "execution_count": null,
      "outputs": [
        {
          "output_type": "stream",
          "name": "stdout",
          "text": [
            "Enter password: 888888888\n",
            "9\n",
            "password is valid\n"
          ]
        }
      ]
    },
    {
      "cell_type": "markdown",
      "source": [
        "using in-built string functions:"
      ],
      "metadata": {
        "id": "gPCw_mQPocgx"
      }
    },
    {
      "cell_type": "code",
      "source": [
        "password = input(\"Enter password: \")\n",
        "if len(password) >= 8 :\n",
        "  print(\"password is valid\")\n",
        "else:\n",
        "  print(\"password is too short\")"
      ],
      "metadata": {
        "colab": {
          "base_uri": "https://localhost:8080/"
        },
        "id": "3L9nCpsZoagI",
        "outputId": "0db03582-f282-40cd-e653-82b33b38c22e"
      },
      "execution_count": null,
      "outputs": [
        {
          "output_type": "stream",
          "name": "stdout",
          "text": [
            "Enter password: 123456789\n",
            "password is valid\n"
          ]
        }
      ]
    },
    {
      "cell_type": "markdown",
      "source": [
        "# Section 2.2: Loops (for and while)\n",
        "\n",
        "1. Use a for loop to iterate through the list ['apple', 'banana', 'cherry'] and print each fruit name.\n",
        "2. Use a for loop and the range() function to print all numbers from 1 to 10 (inclusive).\n",
        "3. Create a list of numbers from 1 to 5. Use a for loop to calculate and print the sum of all numbers in the list.\n",
        "4. Use a while loop to print the numbers from 10 down to 1.\n",
        "5. Write a while loop that continues to prompt the user to enter a number until they enter 0.\n",
        "6. Use a for loop to iterate through the string \"Python\" and print each character."
      ],
      "metadata": {
        "id": "efnQxRB4ptGs"
      }
    },
    {
      "cell_type": "code",
      "source": [
        "fruits = ['apple', 'banana', 'cherry']\n",
        "for fruit in fruits:\n",
        "  print(fruit)"
      ],
      "metadata": {
        "colab": {
          "base_uri": "https://localhost:8080/"
        },
        "id": "1MG2mjTap3ZZ",
        "outputId": "d72a8fe1-9e1a-411c-c251-45a7f1110fcb"
      },
      "execution_count": null,
      "outputs": [
        {
          "output_type": "stream",
          "name": "stdout",
          "text": [
            "apple\n",
            "banana\n",
            "cherry\n"
          ]
        }
      ]
    },
    {
      "cell_type": "code",
      "source": [
        "for i in range(1, 11):\n",
        "  print(i)"
      ],
      "metadata": {
        "colab": {
          "base_uri": "https://localhost:8080/"
        },
        "id": "WGe5iZmfsBh8",
        "outputId": "46f41c6a-c7b0-4620-bab0-9b98073a4ec0"
      },
      "execution_count": null,
      "outputs": [
        {
          "output_type": "stream",
          "name": "stdout",
          "text": [
            "1\n",
            "2\n",
            "3\n",
            "4\n",
            "5\n",
            "6\n",
            "7\n",
            "8\n",
            "9\n",
            "10\n"
          ]
        }
      ]
    },
    {
      "cell_type": "markdown",
      "source": [
        "using list comprehension:"
      ],
      "metadata": {
        "id": "7e2-GyOpsbuF"
      }
    },
    {
      "cell_type": "code",
      "source": [
        "numbers = [x for x in range(1, 11)]\n",
        "numbers"
      ],
      "metadata": {
        "colab": {
          "base_uri": "https://localhost:8080/"
        },
        "id": "3IWunBY8seBV",
        "outputId": "c05af101-dcd3-48fd-aaac-c13a1f51c3b3"
      },
      "execution_count": null,
      "outputs": [
        {
          "output_type": "execute_result",
          "data": {
            "text/plain": [
              "[1, 2, 3, 4, 5, 6, 7, 8, 9, 10]"
            ]
          },
          "metadata": {},
          "execution_count": 41
        }
      ]
    },
    {
      "cell_type": "code",
      "source": [
        "list_of_numbers = list(range(1, 6))\n",
        "sum = 0\n",
        "for num in list_of_numbers:\n",
        "  sum += num\n",
        "print(sum)"
      ],
      "metadata": {
        "colab": {
          "base_uri": "https://localhost:8080/"
        },
        "id": "gcJf4zw_s7bt",
        "outputId": "26bf6193-2d31-4aa9-fd79-d6e43cd84fce"
      },
      "execution_count": null,
      "outputs": [
        {
          "output_type": "stream",
          "name": "stdout",
          "text": [
            "15\n"
          ]
        }
      ]
    },
    {
      "cell_type": "code",
      "source": [
        "num = 10\n",
        "while num >= 0:\n",
        "  print(num)\n",
        "  num -=1\n"
      ],
      "metadata": {
        "colab": {
          "base_uri": "https://localhost:8080/"
        },
        "id": "rRAauP9Ct5Uk",
        "outputId": "d4d801c5-6433-4f3a-f2e9-068539e9145c"
      },
      "execution_count": null,
      "outputs": [
        {
          "output_type": "stream",
          "name": "stdout",
          "text": [
            "10\n",
            "9\n",
            "8\n",
            "7\n",
            "6\n",
            "5\n",
            "4\n",
            "3\n",
            "2\n",
            "1\n",
            "0\n"
          ]
        }
      ]
    },
    {
      "cell_type": "code",
      "source": [
        "num = int(input(\"enter a number:\"))\n",
        "while num:\n",
        "  if num != 0:\n",
        "    num = int(input(\"enter a number: \"))\n",
        "    if num == 0:\n",
        "      break\n"
      ],
      "metadata": {
        "colab": {
          "base_uri": "https://localhost:8080/"
        },
        "id": "oHOusxLSxdys",
        "outputId": "98b3e337-c709-404e-9a80-971b0b8bc5c7"
      },
      "execution_count": null,
      "outputs": [
        {
          "name": "stdout",
          "output_type": "stream",
          "text": [
            "enter a number:5\n",
            "enter a number: 5\n",
            "enter a number: 6\n",
            "enter a number: 0\n"
          ]
        }
      ]
    },
    {
      "cell_type": "code",
      "source": [
        "for i in 'Python':\n",
        "  print(i)"
      ],
      "metadata": {
        "colab": {
          "base_uri": "https://localhost:8080/"
        },
        "id": "6qsTAFe0zFl1",
        "outputId": "faa19fda-5e66-42aa-addd-0c64068fe103"
      },
      "execution_count": null,
      "outputs": [
        {
          "output_type": "stream",
          "name": "stdout",
          "text": [
            "P\n",
            "y\n",
            "t\n",
            "h\n",
            "o\n",
            "n\n"
          ]
        }
      ]
    }
  ]
}